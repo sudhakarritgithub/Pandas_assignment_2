{
 "cells": [
  {
   "cell_type": "raw",
   "id": "be9d4f86-7d9f-4335-a81d-5d83f389d362",
   "metadata": {},
   "source": [
    "                                                 Pandas Assignment - 2"
   ]
  },
  {
   "cell_type": "raw",
   "id": "dbb672a3-ce88-4ae5-a618-1df55e65d48f",
   "metadata": {},
   "source": []
  },
  {
   "cell_type": "raw",
   "id": "5cce0da4-cdcb-46e5-a335-d9fab77f87cf",
   "metadata": {},
   "source": []
  },
  {
   "cell_type": "raw",
   "id": "846750f3-2675-405f-a555-6e0f1a01e237",
   "metadata": {},
   "source": [
    "Ques.1   Consider following code to answer further questions:\n",
    "         import pandas as pd\n",
    "         course_name = [‘Data Science’, ‘Machine Learning’, ‘Big Data’, ‘Data Engineer’]\n",
    "         duration = [2,3,6,4]\n",
    "         df = pd.DataFrame(data = {‘course_name’ : course_name, ‘duration’ : duration})\n",
    "Write a code to print the data present in the second row of the dataframe, df.         "
   ]
  },
  {
   "cell_type": "code",
   "execution_count": 1,
   "id": "a80b270c-78c7-4d96-901c-842fc4457ed6",
   "metadata": {},
   "outputs": [
    {
     "name": "stdout",
     "output_type": "stream",
     "text": [
      "course_name    Machine Learning\n",
      "duration                      3\n",
      "Name: 1, dtype: object\n"
     ]
    }
   ],
   "source": [
    "import pandas as pd\n",
    "\n",
    "course_name = ['Data Science', 'Machine Learning', 'Big Data', 'Data Engineer']\n",
    "duration = [2, 3, 6, 4]\n",
    "\n",
    "df = pd.DataFrame(data={'course_name': course_name, 'duration': duration})\n",
    "\n",
    "# Print data present in the second row\n",
    "print(df.iloc[1])\n"
   ]
  },
  {
   "cell_type": "raw",
   "id": "4c8d4456-c67c-47ec-9d71-07256b826701",
   "metadata": {},
   "source": []
  },
  {
   "cell_type": "raw",
   "id": "4fabe40e-ebc6-4054-88a4-6a4245cdc156",
   "metadata": {},
   "source": [
    "Ques.2  What is the difference between the functions loc and iloc in pandas.DataFrame?"
   ]
  },
  {
   "cell_type": "raw",
   "id": "0c4a2a40-b968-4204-96f9-402fe8e137c9",
   "metadata": {},
   "source": [
    "In Pandas, both loc and iloc are used for accessing data in a DataFrame, but they have different methods of indexing:"
   ]
  },
  {
   "cell_type": "markdown",
   "id": "fc28f4ab-b2c3-41e3-bb04-09478ce0e67e",
   "metadata": {},
   "source": [
    "df.loc[3, 'column_name']  # Accesses the value at row with label 3 and column 'column_name'\n"
   ]
  },
  {
   "cell_type": "markdown",
   "id": "4334a164-e0ff-45eb-a1d8-3190e46aafd2",
   "metadata": {},
   "source": [
    "df.iloc[3, 2]  # Accesses the value at row index 3 and column index 2\n"
   ]
  },
  {
   "cell_type": "raw",
   "id": "defa8275-9689-4a15-b053-1c97b4c42ccd",
   "metadata": {},
   "source": []
  },
  {
   "cell_type": "raw",
   "id": "f69fffbd-4bf4-4dfe-8485-e8f8c536afd3",
   "metadata": {},
   "source": [
    "Ques.3 Reindex the given dataframe using a variable, reindex = [3,0,1,2] and store it in the variable, new_df then find the          output for both new_df.loc[2] and new_df.iloc[2].\n",
    "       Did you observe any difference in both the outputs? If so then explain it.\n",
    "       Consider the below code to answer further questions:\n",
    "import pandas as pd\n",
    "\n",
    "import numpy as np\n",
    "\n",
    "columns = ['column_1', 'column_2', 'column_3', 'column_4', 'column_5', 'column_6']\n",
    "\n",
    "indices = [1,2,3,4,5,6]\n",
    "\n",
    "#Creating a dataframe:\n",
    "\n",
    "df1 = pd.DataFrame(np.random.rand(6,6), columns = columns, index = indices)"
   ]
  },
  {
   "cell_type": "code",
   "execution_count": 4,
   "id": "88e8222c-0bec-4f34-8a8c-c827c71b9f89",
   "metadata": {},
   "outputs": [
    {
     "name": "stdout",
     "output_type": "stream",
     "text": [
      "New DataFrame:\n",
      "   column_1  column_2  column_3  column_4  column_5  column_6\n",
      "3  0.223473  0.913122  0.377413  0.693617  0.662183  0.425899\n",
      "0       NaN       NaN       NaN       NaN       NaN       NaN\n",
      "1  0.720685  0.577028  0.632168  0.789310  0.536695  0.402079\n",
      "2  0.567089  0.834740  0.991962  0.391411  0.169700  0.569941\n",
      "\n",
      "Using loc:\n",
      "column_1    0.567089\n",
      "column_2    0.834740\n",
      "column_3    0.991962\n",
      "column_4    0.391411\n",
      "column_5    0.169700\n",
      "column_6    0.569941\n",
      "Name: 2, dtype: float64\n",
      "\n",
      "Using iloc:\n",
      "column_1    0.720685\n",
      "column_2    0.577028\n",
      "column_3    0.632168\n",
      "column_4    0.789310\n",
      "column_5    0.536695\n",
      "column_6    0.402079\n",
      "Name: 1, dtype: float64\n"
     ]
    }
   ],
   "source": [
    "import pandas as pd\n",
    "import numpy as np\n",
    "\n",
    "columns = ['column_1', 'column_2', 'column_3', 'column_4', 'column_5', 'column_6']\n",
    "indices = [1, 2, 3, 4, 5, 6]\n",
    "\n",
    "# Creating a DataFrame\n",
    "df1 = pd.DataFrame(np.random.rand(6, 6), columns=columns, index=indices)\n",
    "\n",
    "# Reindexing the DataFrame\n",
    "reindex = [3, 0, 1, 2]\n",
    "new_df = df1.reindex(reindex)\n",
    "\n",
    "# Display the new DataFrame\n",
    "print(\"New DataFrame:\")\n",
    "print(new_df)\n",
    "\n",
    "# Accessing data using loc and iloc\n",
    "print(\"\\nUsing loc:\")\n",
    "print(new_df.loc[2])\n",
    "print(\"\\nUsing iloc:\")\n",
    "print(new_df.iloc[2])\n"
   ]
  },
  {
   "cell_type": "raw",
   "id": "50e890e7-0938-4b3b-80cd-97e3d700cc9b",
   "metadata": {},
   "source": []
  },
  {
   "cell_type": "raw",
   "id": "f10a88ad-5450-428c-85f5-107dd7e779a6",
   "metadata": {},
   "source": [
    "Ques.4  Write a code to find the following statistical measurements for the above dataframe df1:\n",
    "        (i) mean of each and every column present in the dataframe.\n",
    "        (ii) standard deviation of column, ‘column_2’\n"
   ]
  },
  {
   "cell_type": "code",
   "execution_count": 5,
   "id": "bd75e9ec-2c6b-40fa-9fd4-451959bd0e5c",
   "metadata": {},
   "outputs": [
    {
     "name": "stdout",
     "output_type": "stream",
     "text": [
      "Mean of each column:\n",
      "column_1    0.561774\n",
      "column_2    0.485294\n",
      "column_3    0.609226\n",
      "column_4    0.310143\n",
      "column_5    0.525236\n",
      "column_6    0.439796\n",
      "dtype: float64\n",
      "\n",
      "Standard deviation of column 'column_2': 0.28854254742989527\n"
     ]
    }
   ],
   "source": [
    "import pandas as pd\n",
    "import numpy as np\n",
    "\n",
    "columns = ['column_1', 'column_2', 'column_3', 'column_4', 'column_5', 'column_6']\n",
    "indices = [1, 2, 3, 4, 5, 6]\n",
    "\n",
    "# Creating a DataFrame\n",
    "df1 = pd.DataFrame(np.random.rand(6, 6), columns=columns, index=indices)\n",
    "\n",
    "# (i) Mean of each and every column\n",
    "column_means = df1.mean()\n",
    "print(\"Mean of each column:\")\n",
    "print(column_means)\n",
    "\n",
    "# (ii) Standard deviation of column 'column_2'\n",
    "std_dev_column_2 = df1['column_2'].std()\n",
    "print(\"\\nStandard deviation of column 'column_2':\", std_dev_column_2)\n"
   ]
  },
  {
   "cell_type": "raw",
   "id": "dc999599-0da9-4c0c-9cd9-11027c1bfa0b",
   "metadata": {},
   "source": []
  },
  {
   "cell_type": "raw",
   "id": "41238260-3294-42b7-8a18-ad4043961507",
   "metadata": {},
   "source": [
    "Ques.5  Replace the data present in the second row of column, ‘column_2’ by a string variable then find the mean of column,           column_2.\n",
    "        If you are getting errors in executing it then explain why.\n",
    "        [Hint: To replace the data use df1.loc[] and equate this to string data of your choice.]"
   ]
  },
  {
   "cell_type": "code",
   "execution_count": null,
   "id": "872d6fd7-434d-4226-849e-52c86846b591",
   "metadata": {},
   "outputs": [],
   "source": [
    "import pandas as pd\n",
    "import numpy as np\n",
    "\n",
    "columns = ['column_1', 'column_2', 'column_3', 'column_4', 'column_5', 'column_6']\n",
    "indices = [1, 2, 3, 4, 5, 6]\n",
    "\n",
    "# Creating a DataFrame\n",
    "df1 = pd.DataFrame(np.random.rand(6, 6), columns=columns, index=indices)\n",
    "\n",
    "# Replace the data in the second row of 'column_2' with a string variable\n",
    "df1.loc[2, 'column_2'] = 'string_data'\n",
    "\n",
    "# Try to find the mean of 'column_2'\n",
    "mean_column_2 = df1['column_2'].mean()\n",
    "print(\"Mean of column 'column_2':\", mean_column_2)\n"
   ]
  },
  {
   "cell_type": "raw",
   "id": "113c2af6-561a-4b2d-9ef9-ba93da2d030f",
   "metadata": {},
   "source": []
  },
  {
   "cell_type": "raw",
   "id": "7ad6b6b0-414b-4e87-a2b2-ec485ad6f355",
   "metadata": {},
   "source": [
    "Ques.6  What do you understand about the windows function in pandas and list the types of windows functions?"
   ]
  },
  {
   "cell_type": "raw",
   "id": "1408a92f-04dc-41b0-99dd-d1735844f71f",
   "metadata": {},
   "source": [
    "In Pandas, the windows function refers to the ability to perform operations on a rolling or expanding window of data. This is particularly useful for tasks such as calculating moving averages, cumulative sums, or other aggregate functions over a specified window of observations."
   ]
  },
  {
   "cell_type": "raw",
   "id": "5b1ded94-1871-45a3-a3f0-ee5cc84b5fc1",
   "metadata": {},
   "source": []
  },
  {
   "cell_type": "raw",
   "id": "cfc086d9-0831-4bdd-96f6-836ca2b292d9",
   "metadata": {},
   "source": [
    "Ques.7  Write a code to print only the current month and year at the time of answering this question.\n",
    "        [Hint: Use pandas.datetime function]"
   ]
  },
  {
   "cell_type": "code",
   "execution_count": 9,
   "id": "a3c9cacb-5b4c-4ca2-b8ad-e768dc3a0f90",
   "metadata": {},
   "outputs": [
    {
     "name": "stdout",
     "output_type": "stream",
     "text": [
      "Current Month: 5\n",
      "Current Year: 2024\n"
     ]
    }
   ],
   "source": [
    "import pandas as pd\n",
    "\n",
    "# Get the current timestamp\n",
    "current_time = pd.Timestamp.now()\n",
    "\n",
    "# Extract the month and year from the current timestamp\n",
    "current_month = current_time.month\n",
    "current_year = current_time.year\n",
    "\n",
    "print(\"Current Month:\", current_month)\n",
    "print(\"Current Year:\", current_year)\n"
   ]
  },
  {
   "cell_type": "raw",
   "id": "d50d2515-9373-4ba5-975b-326311a23074",
   "metadata": {},
   "source": []
  },
  {
   "cell_type": "raw",
   "id": "b395568f-9d4f-4300-bde9-4a2d00b0eaad",
   "metadata": {},
   "source": [
    "Ques.8  Write a Python program that takes in two dates as input (in the format YYYY-MM-DD) and calculates the difference               between them in days, hours, and minutes using Pandas time delta. The program should prompt the user to enter the             dates and display the result."
   ]
  },
  {
   "cell_type": "code",
   "execution_count": 10,
   "id": "c1fb06e2-8bc6-43d6-9e80-eb37ad366fe1",
   "metadata": {},
   "outputs": [
    {
     "name": "stdin",
     "output_type": "stream",
     "text": [
      "Enter the start date (YYYY-MM-DD):  2000-11-14\n",
      "Enter the end date (YYYY-MM-DD):  2024-05-13\n"
     ]
    },
    {
     "name": "stdout",
     "output_type": "stream",
     "text": [
      "Difference between the dates:\n",
      "Days: 8581\n",
      "Hours: 0\n",
      "Minutes: 0\n"
     ]
    }
   ],
   "source": [
    "import pandas as pd\n",
    "\n",
    "def calculate_time_difference(start_date, end_date):\n",
    "    # Convert input strings to pandas Timestamp objects\n",
    "    start = pd.Timestamp(start_date)\n",
    "    end = pd.Timestamp(end_date)\n",
    "    \n",
    "    # Calculate the time difference\n",
    "    time_diff = end - start\n",
    "    \n",
    "    # Extract days, hours, and minutes from the time difference\n",
    "    days = time_diff.days\n",
    "    hours = time_diff.seconds // 3600\n",
    "    minutes = (time_diff.seconds % 3600) // 60\n",
    "    \n",
    "    return days, hours, minutes\n",
    "\n",
    "# Prompt the user to enter two dates\n",
    "start_date = input(\"Enter the start date (YYYY-MM-DD): \")\n",
    "end_date = input(\"Enter the end date (YYYY-MM-DD): \")\n",
    "\n",
    "# Calculate the difference between the dates\n",
    "days_diff, hours_diff, minutes_diff = calculate_time_difference(start_date, end_date)\n",
    "\n",
    "# Display the result\n",
    "print(\"Difference between the dates:\")\n",
    "print(\"Days:\", days_diff)\n",
    "print(\"Hours:\", hours_diff)\n",
    "print(\"Minutes:\", minutes_diff)\n"
   ]
  },
  {
   "cell_type": "raw",
   "id": "7f666e4b-e90a-4854-a0a4-6002bba6b361",
   "metadata": {},
   "source": []
  },
  {
   "cell_type": "raw",
   "id": "5ca9adeb-83ab-4396-9bc1-20d9d8796b29",
   "metadata": {},
   "source": [
    "Ques.9  Write a Python program that reads a CSV file containing categorical data and converts a specified column to a\n",
    "        categorical data type. The program should prompt the user to enter the file path, column name, and category order, and         then display the sorted data."
   ]
  },
  {
   "cell_type": "code",
   "execution_count": null,
   "id": "96fe2656-f622-4003-8e3e-ec3107f6c7e8",
   "metadata": {},
   "outputs": [],
   "source": [
    "import pandas as pd\n",
    "\n",
    "# Function to read CSV file, convert specified column to categorical, and display sorted data\n",
    "def process_categorical_data(file_path, column_name, category_order):\n",
    "    # Read the CSV file\n",
    "    df = pd.read_csv(file_path)\n",
    "    \n",
    "    # Convert specified column to categorical data type with specified category order\n",
    "    df[column_name] = pd.Categorical(df[column_name], categories=category_order, ordered=True)\n",
    "    \n",
    "    # Display sorted data\n",
    "    sorted_data = df.sort_values(by=column_name)\n",
    "    print(sorted_data)\n",
    "\n",
    "# Prompt user for file path, column name, and category order\n",
    "file_path = input(\"Enter the file path of the CSV file: \")\n",
    "column_name = input(\"Enter the name of the column to convert to categorical data type: \")\n",
    "category_order_str = input(\"Enter the category order separated by commas: \")\n",
    "category_order = [category.strip() for category in category_order_str.split(',')]\n",
    "\n",
    "# Process the categorical data\n",
    "process_categorical_data(file_path, column_name, category_order)\n"
   ]
  },
  {
   "cell_type": "raw",
   "id": "6d0fde35-874f-473a-a63a-355a0a751937",
   "metadata": {},
   "source": []
  },
  {
   "cell_type": "raw",
   "id": "0c64b544-81ab-45a9-9b07-6a813b595381",
   "metadata": {},
   "source": [
    "Ques.10 Write a Python program that reads a CSV file containing sales data for different products and visualizes the data             using a stacked bar chart to show the sales of each product category over time. The program should prompt the user to         enter the file path and display the chart."
   ]
  },
  {
   "cell_type": "code",
   "execution_count": null,
   "id": "e9481e2b-12f9-4cca-8de7-b490546c4b32",
   "metadata": {},
   "outputs": [],
   "source": [
    "import pandas as pd\n",
    "import matplotlib.pyplot as plt\n",
    "\n",
    "def main():\n",
    "    # Prompt the user to enter the file path\n",
    "    file_path = input(\"Enter the file path of the CSV file: \")\n",
    "\n",
    "    # Read the CSV file into a pandas DataFrame\n",
    "    try:\n",
    "        df = pd.read_csv(file_path)\n",
    "    except FileNotFoundError:\n",
    "        print(\"File not found. Please check the file path.\")\n",
    "        return\n",
    "\n",
    "    # Convert the 'Date' column to datetime type\n",
    "    df['Date'] = pd.to_datetime(df['Date'])\n",
    "\n",
    "    # Extract year and month from the 'Date' column\n",
    "    df['Year'] = df['Date'].dt.year\n",
    "    df['Month'] = df['Date'].dt.month\n",
    "\n",
    "    # Group by 'Year', 'Month', and 'Category' and sum the sales\n",
    "    sales_data = df.groupby(['Year', 'Month', 'Category'])['Sales'].sum().reset_index()\n",
    "\n",
    "    # Pivot the data to create a pivot table\n",
    "    pivot_table = sales_data.pivot_table(index=['Year', 'Month'], columns='Category', values='Sales', aggfunc='sum', fill_value=0)\n",
    "\n",
    "    # Plot stacked bar chart\n",
    "    pivot_table.plot(kind='bar', stacked=True, figsize=(10, 6))\n",
    "    plt.title('Sales of Each Product Category Over Time')\n",
    "    plt.xlabel('Year-Month')\n",
    "    plt.ylabel('Sales')\n",
    "    plt.legend(title='Product Category')\n",
    "    plt.xticks(rotation=45)\n",
    "    plt.tight_layout()\n",
    "    plt.show()\n",
    "\n",
    "if __name__ == \"__main__\":\n",
    "    main()\n"
   ]
  },
  {
   "cell_type": "raw",
   "id": "c4fdca0f-842a-443a-9799-3078bb774711",
   "metadata": {},
   "source": []
  },
  {
   "cell_type": "raw",
   "id": "cfdd648a-9348-4fea-ae17-53b291e05a9b",
   "metadata": {},
   "source": [
    "Ques.11 You are given a CSV file containing student data that includes the student ID and their test score. Write a Python             program that reads the CSV file, calculates the mean, median, and mode of the test scores, and displays the results in         a table. \n",
    "The program should do the following.\n",
    "* Prompt the user to enter the file path of the CSV file containing the student dataR\n",
    "* Read the CSV file into a Pandas DataFrameR\n",
    "* Calculate the mean, median, and mode of the test scores using Pandas toolsR\n",
    "* Display the mean, median, and mode in a table.\n",
    "Assume the CSV file contains the following columns\n",
    "* Student ID: The ID of the student\n",
    "* Test Score: The score of the student's test.\n",
    "Example usage of the program:\n",
    "Enter the file path of the CSV file containing the student data: student_data.csv\n",
    "+-----------+--------+\n",
    "\n",
    "| Statistic | Value |\n",
    "\n",
    "+-----------+--------+\n",
    "\n",
    "| Mean | 79.6 |\n",
    "\n",
    "| Median | 82 |\n",
    "\n",
    "| Mode | 85, 90 |\n",
    "\n",
    "+-----------+--------+\n",
    "\n",
    "Assume that the CSV file student_data.csv contains the following data:\n",
    "\n",
    "Student ID,Test Score\n",
    "\n",
    "1,85\n",
    "\n",
    "2,90\n",
    "\n",
    "3,80\n",
    "\n",
    "4,75\n",
    "\n",
    "5,85\n",
    "\n",
    "6,82\n",
    "\n",
    "7,78\n",
    "\n",
    "8,85\n",
    "\n",
    "9,90\n",
    "\n",
    "10,85\n",
    "\n",
    "The program should calculate the mean, median, and mode of the test scores and display the results\n",
    "in a table."
   ]
  },
  {
   "cell_type": "code",
   "execution_count": null,
   "id": "87252b3b-ded5-43d5-8e5a-0ab90ec4a50a",
   "metadata": {},
   "outputs": [],
   "source": [
    "import pandas as pd\n",
    "\n",
    "def calculate_statistics(df):\n",
    "    # Calculate mean, median, and mode\n",
    "    mean = df['Test Score'].mean()\n",
    "    median = df['Test Score'].median()\n",
    "    mode = df['Test Score'].mode().tolist()\n",
    "\n",
    "    return mean, median, mode\n",
    "\n",
    "def display_results(mean, median, mode):\n",
    "    # Display results in a table\n",
    "    print(\"+-----------+--------+\")\n",
    "    print(\"| Statistic | Value  |\")\n",
    "    print(\"+-----------+--------+\")\n",
    "    print(\"| Mean      | {:.1f}   |\".format(mean))\n",
    "    print(\"| Median    | {}   |\".format(int(median)))\n",
    "    print(\"| Mode      | {} |\".format(', '.join(map(str, mode))))\n",
    "    print(\"+-----------+--------+\")\n",
    "\n",
    "def main():\n",
    "    # Prompt the user to enter the file path\n",
    "    file_path = input(\"Enter the file path of the CSV file containing the student data: \")\n",
    "\n",
    "    # Read the CSV file into a pandas DataFrame\n",
    "    try:\n",
    "        df = pd.read_csv(file_path)\n",
    "    except FileNotFoundError:\n",
    "        print(\"File not found. Please check the file path.\")\n",
    "        return\n",
    "\n",
    "    # Calculate statistics\n",
    "    mean, median, mode = calculate_statistics(df)\n",
    "\n",
    "    # Display results\n",
    "    display_results(mean, median, mode)\n",
    "\n",
    "if __name__ == \"__main__\":\n",
    "    main()\n"
   ]
  },
  {
   "cell_type": "code",
   "execution_count": null,
   "id": "f3fe5434-9b84-42cd-af38-2f525742f46e",
   "metadata": {},
   "outputs": [],
   "source": []
  },
  {
   "cell_type": "code",
   "execution_count": null,
   "id": "9a93c674-6d07-465d-8611-5b802b4339e7",
   "metadata": {},
   "outputs": [],
   "source": []
  }
 ],
 "metadata": {
  "kernelspec": {
   "display_name": "Python 3 (ipykernel)",
   "language": "python",
   "name": "python3"
  },
  "language_info": {
   "codemirror_mode": {
    "name": "ipython",
    "version": 3
   },
   "file_extension": ".py",
   "mimetype": "text/x-python",
   "name": "python",
   "nbconvert_exporter": "python",
   "pygments_lexer": "ipython3",
   "version": "3.10.8"
  }
 },
 "nbformat": 4,
 "nbformat_minor": 5
}
